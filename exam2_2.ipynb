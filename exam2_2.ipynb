{
  "nbformat": 4,
  "nbformat_minor": 0,
  "metadata": {
    "colab": {
      "name": "exam2-2.ipynb",
      "provenance": [],
      "authorship_tag": "ABX9TyOx/6VaQrHliG8dxV4twaPb",
      "include_colab_link": true
    },
    "kernelspec": {
      "name": "python3",
      "display_name": "Python 3"
    }
  },
  "cells": [
    {
      "cell_type": "markdown",
      "metadata": {
        "id": "view-in-github",
        "colab_type": "text"
      },
      "source": [
        "<a href=\"https://colab.research.google.com/github/napat1999/git-demo/blob/main/exam2_2.ipynb\" target=\"_parent\"><img src=\"https://colab.research.google.com/assets/colab-badge.svg\" alt=\"Open In Colab\"/></a>"
      ]
    },
    {
      "cell_type": "code",
      "metadata": {
        "colab": {
          "base_uri": "https://localhost:8080/"
        },
        "id": "6EEfm0_TBblX",
        "outputId": "367c29be-b02a-457a-a8d0-7394f4105b70"
      },
      "source": [
        "i = True   \r\n",
        "while i : #Loop ใช้ในการ วนซ้ำรับตัวเลขจำนวนเต็ม\r\n",
        "  \r\n",
        "    n = int(input(\"Enter number : \"))# input ตัวเลขจำนวนเต็ม\r\n",
        "    if n > 0: #เช็คว่า input ที่ป้อนเข้ามามีค่ามากกกว่า0หรือไม่\r\n",
        "        if isEven(n) == True: \r\n",
        "            print (n , \"Number is Even\") \r\n",
        "        else: \r\n",
        "            print (n , \"Number is Odd\")\r\n",
        "    else :\r\n",
        "        print(\"Try again ,please input integer number!!\")\r\n",
        "        \r\n",
        "def isEven(n): #function แยกว่าเป็น เลขคู่ หรือ เลขคี่\r\n",
        "    isEven = True \r\n",
        "    for i in range(1,n+1): \r\n",
        "        if isEven == True: \r\n",
        "            isEven = False \r\n",
        "        else: \r\n",
        "            isEven = True \r\n",
        "  \r\n",
        "    return isEven "
      ],
      "execution_count": null,
      "outputs": [
        {
          "output_type": "stream",
          "text": [
            "Enter number : 123\n",
            "123 Number is Odd\n",
            "Enter number : 321\n",
            "321 Number is Odd\n",
            "Enter number : 22\n",
            "22 Number is Even\n",
            "Enter number : 44\n",
            "44 Number is Even\n"
          ],
          "name": "stdout"
        }
      ]
    }
  ]
}